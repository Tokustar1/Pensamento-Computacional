{
  "nbformat": 4,
  "nbformat_minor": 0,
  "metadata": {
    "colab": {
      "name": "Aula 18/05/22.ipynb",
      "provenance": [],
      "authorship_tag": "ABX9TyM2jKzFG7i3rVSU1EJSXyHJ",
      "include_colab_link": true
    },
    "kernelspec": {
      "name": "python3",
      "display_name": "Python 3"
    },
    "language_info": {
      "name": "python"
    }
  },
  "cells": [
    {
      "cell_type": "markdown",
      "metadata": {
        "id": "view-in-github",
        "colab_type": "text"
      },
      "source": [
        "<a href=\"https://colab.research.google.com/github/Tokustar1/Pensamento-Computacional/blob/main/Aula_18_05_22.ipynb\" target=\"_parent\"><img src=\"https://colab.research.google.com/assets/colab-badge.svg\" alt=\"Open In Colab\"/></a>"
      ]
    },
    {
      "cell_type": "markdown",
      "source": [
        "Programa 01 - objetivo é calcular a média de duas notas lançadas para os alunos e mostrar junto a situação do aluno caso o aluno tenha média >=7 aprovado, senão recuperação\n"
      ],
      "metadata": {
        "id": "Gn_6VEJyFDKy"
      }
    },
    {
      "cell_type": "code",
      "source": [
        "n1= float(input(\"Digite a primeira nota: \"))\n",
        "n2= float(input(\"Digite a segunda nota: \"))\n",
        "\n",
        "#calcular média\n",
        "\n",
        "media = (n1 +n2)/2\n",
        "print(\"a media foi: \", media)\n",
        "\n",
        "#calculando a situação do aluno - aprovado ou recuperação\n",
        "\n",
        "if(media >= 7):\n",
        " print(\"aluno aprovado\")\n",
        "\n",
        "else:\n",
        "  print(\"aluno em recuperação\")\n"
      ],
      "metadata": {
        "id": "tmaYlXkTFSFR"
      },
      "execution_count": null,
      "outputs": []
    },
    {
      "cell_type": "markdown",
      "source": [
        "Programa 02 - programa para calcular o turno - faça um programa que pergunte em que turno você estuda. peça para digita - M (matutino), V )vespertino) e ou N Norturno) e depois imprima a mesnagem: Bom dia, boa tarde e ou Boa noite"
      ],
      "metadata": {
        "id": "RF0GI05eHgPK"
      }
    },
    {
      "cell_type": "code",
      "source": [
        "turno = input(\"Digite o seu turno, M-Manhãm V-Tarde, N-Noite: \").upper()\n",
        "\n",
        "if turno ==\"M\":\n",
        "  print(\"Bom dia! você estuda pela manhã\")\n",
        "elif turno == \"V\":\n",
        "  print(\"Boa tarde! você estuda pela tarde\")\n",
        "elif turno == \"N\":\n",
        "  print(\"Boa noite! você estuda pela noite\")\n",
        "else:\n",
        "  print(\"Valor invalido\")"
      ],
      "metadata": {
        "id": "H5PWJtgnIwaw"
      },
      "execution_count": null,
      "outputs": []
    },
    {
      "cell_type": "markdown",
      "source": [
        "Programa 03 - "
      ],
      "metadata": {
        "id": "hRkXas-eKlOH"
      }
    },
    {
      "cell_type": "code",
      "source": [
        "atletas = []\n",
        "\n",
        "while True:\n",
        "\n",
        "    nome = input(\n",
        "\n",
        "        \"Digite o nome do atleta (ou enter para encerrar o programa): \"\n",
        "\n",
        "    )\n",
        "\n",
        "    if nome == \"\":\n",
        "\n",
        "        break\n",
        "\n",
        "    atleta = {\n",
        "\n",
        "        \"nome\": nome,\n",
        "\n",
        "        \"saltos\": [],\n",
        "\n",
        "        \"media\": 0,\n",
        "\n",
        "        \"melhor_salto\": 0,\n",
        "\n",
        "        \"pior_salto\": 0,\n",
        "\n",
        "    }\n",
        "\n",
        "    for i in range(5):\n",
        "\n",
        "        atleta.get(\"saltos\").append(\n",
        "\n",
        "            float(input(f\"Distância do {i+1}º salto: \"))\n",
        "\n",
        "        )\n",
        "\n",
        "    atleta.get(\"saltos\").sort()  # ? Ordena a lista\n",
        "\n",
        "    atleta[\"pior_salto\"] = atleta.get(\"saltos\").pop(0)\n",
        "\n",
        "    atleta[\"melhor_salto\"] = atleta.get(\"saltos\").pop()\n",
        "\n",
        "    atleta[\"media\"] = sum(atleta.get(\"saltos\")) / 3\n",
        "\n",
        "    print(\n",
        "\n",
        "        f\"\\nMelhor salto: {atleta.get('melhor_salto'):.1f} m\"\n",
        "\n",
        "        f\"\\nPior salto: {atleta.get('pior_salto'):.1f} m\"\n",
        "\n",
        "        f\"\\nMédia dos demais saltos: {atleta.get('media'):.1f} m\\n\"\n",
        "\n",
        "    )\n",
        "\n",
        "    atletas.append(atleta)\n",
        "\n",
        "\n",
        "\n",
        "print(\"\\n\\nResultado final\")\n",
        "\n",
        "for atleta in atletas:\n",
        "\n",
        "    print(f\"{atleta.get('nome')}: {atleta.get('media'):.1f} m\")"
      ],
      "metadata": {
        "colab": {
          "base_uri": "https://localhost:8080/"
        },
        "id": "2_OgzFBrQ39C",
        "outputId": "12ea9a9f-03f2-453d-ffc3-1376803a6d01"
      },
      "execution_count": null,
      "outputs": [
        {
          "output_type": "stream",
          "name": "stdout",
          "text": [
            "Digite o nome do atleta (ou enter para encerrar o programa): Alex\n",
            "Distância do 1º salto: 8\n",
            "Distância do 2º salto: 6\n",
            "Distância do 3º salto: 8.1\n",
            "Distância do 4º salto: 5.9\n",
            "Distância do 5º salto: 5.6\n",
            "\n",
            "Melhor salto: 8.1 m\n",
            "Pior salto: 5.6 m\n",
            "Média dos demais saltos: 6.6 m\n",
            "\n"
          ]
        }
      ]
    }
  ]
}