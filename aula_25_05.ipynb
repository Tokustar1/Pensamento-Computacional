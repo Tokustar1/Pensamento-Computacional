{
  "nbformat": 4,
  "nbformat_minor": 0,
  "metadata": {
    "colab": {
      "name": "aula 25/05.ipynb",
      "provenance": [],
      "authorship_tag": "ABX9TyPYG5xGUS+YXEorXtzZT0v2",
      "include_colab_link": true
    },
    "kernelspec": {
      "name": "python3",
      "display_name": "Python 3"
    },
    "language_info": {
      "name": "python"
    }
  },
  "cells": [
    {
      "cell_type": "markdown",
      "metadata": {
        "id": "view-in-github",
        "colab_type": "text"
      },
      "source": [
        "<a href=\"https://colab.research.google.com/github/Tokustar1/Pensamento-Computacional/blob/main/aula_25_05.ipynb\" target=\"_parent\"><img src=\"https://colab.research.google.com/assets/colab-badge.svg\" alt=\"Open In Colab\"/></a>"
      ]
    },
    {
      "cell_type": "markdown",
      "source": [
        "13- Faça um programa que imprima a tabuada completa de um número"
      ],
      "metadata": {
        "id": "iOeXK16t7o5q"
      }
    },
    {
      "cell_type": "code",
      "source": [
        "lista=[]\n",
        "\n",
        "while True:\n",
        "\n",
        "  numero = int(input(\"digite o numero: \"))\n",
        "\n",
        "  for x in range(1,10):\n",
        "\n",
        "    print(f\"{numero} * {i +1} = {numero * (x +1)}\")\n",
        "    \n",
        "  if numero == 0:\n",
        "    break\n",
        "\n",
        "print(lista)"
      ],
      "metadata": {
        "colab": {
          "base_uri": "https://localhost:8080/"
        },
        "id": "2tNt7Ekl7prs",
        "outputId": "a1a95212-9faa-4272-a120-eb5e70c5297d"
      },
      "execution_count": 16,
      "outputs": [
        {
          "output_type": "stream",
          "name": "stdout",
          "text": [
            "digite o numero: 3\n",
            "3 * 10 = 6\n",
            "3 * 10 = 9\n",
            "3 * 10 = 12\n",
            "3 * 10 = 15\n",
            "3 * 10 = 18\n",
            "3 * 10 = 21\n",
            "3 * 10 = 24\n",
            "3 * 10 = 27\n",
            "3 * 10 = 30\n",
            "digite o numero: 4\n",
            "4 * 10 = 8\n",
            "4 * 10 = 12\n",
            "4 * 10 = 16\n",
            "4 * 10 = 20\n",
            "4 * 10 = 24\n",
            "4 * 10 = 28\n",
            "4 * 10 = 32\n",
            "4 * 10 = 36\n",
            "4 * 10 = 40\n",
            "digite o numero: 0\n",
            "0 * 10 = 0\n",
            "0 * 10 = 0\n",
            "0 * 10 = 0\n",
            "0 * 10 = 0\n",
            "0 * 10 = 0\n",
            "0 * 10 = 0\n",
            "0 * 10 = 0\n",
            "0 * 10 = 0\n",
            "0 * 10 = 0\n",
            "[]\n"
          ]
        }
      ]
    }
  ]
}